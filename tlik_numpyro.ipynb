{
 "cells": [
  {
   "cell_type": "code",
   "execution_count": 1,
   "metadata": {},
   "outputs": [
    {
     "name": "stderr",
     "output_type": "stream",
     "text": [
      "/Users/andrewf/miniconda3/envs/GPax/lib/python3.10/site-packages/tqdm/auto.py:21: TqdmWarning: IProgress not found. Please update jupyter and ipywidgets. See https://ipywidgets.readthedocs.io/en/stable/user_install.html\n",
      "  from .autonotebook import tqdm as notebook_tqdm\n"
     ]
    },
    {
     "ename": "FileNotFoundError",
     "evalue": "data/P3HT_dataset.csv not found.",
     "output_type": "error",
     "traceback": [
      "\u001b[0;31m---------------------------------------------------------------------------\u001b[0m",
      "\u001b[0;31mFileNotFoundError\u001b[0m                         Traceback (most recent call last)",
      "Cell \u001b[0;32mIn[1], line 20\u001b[0m\n\u001b[1;32m     17\u001b[0m enable_x64()\n\u001b[1;32m     19\u001b[0m \u001b[38;5;66;03m# Load and preprocess data\u001b[39;00m\n\u001b[0;32m---> 20\u001b[0m data \u001b[38;5;241m=\u001b[39m \u001b[43mnp\u001b[49m\u001b[38;5;241;43m.\u001b[39;49m\u001b[43mloadtxt\u001b[49m\u001b[43m(\u001b[49m\u001b[38;5;124;43m\"\u001b[39;49m\u001b[38;5;124;43mdata/P3HT_dataset.csv\u001b[39;49m\u001b[38;5;124;43m\"\u001b[39;49m\u001b[43m,\u001b[49m\u001b[43m \u001b[49m\u001b[43mdelimiter\u001b[49m\u001b[38;5;241;43m=\u001b[39;49m\u001b[38;5;124;43m\"\u001b[39;49m\u001b[38;5;124;43m,\u001b[39;49m\u001b[38;5;124;43m\"\u001b[39;49m\u001b[43m,\u001b[49m\u001b[43m \u001b[49m\u001b[43mskiprows\u001b[49m\u001b[38;5;241;43m=\u001b[39;49m\u001b[38;5;241;43m1\u001b[39;49m\u001b[43m)\u001b[49m\n\u001b[1;32m     22\u001b[0m X \u001b[38;5;241m=\u001b[39m np\u001b[38;5;241m.\u001b[39marray(data[:, \u001b[38;5;241m0\u001b[39m:\u001b[38;5;241m-\u001b[39m\u001b[38;5;241m1\u001b[39m], dtype\u001b[38;5;241m=\u001b[39mnp\u001b[38;5;241m.\u001b[39mdouble)\n\u001b[1;32m     23\u001b[0m y \u001b[38;5;241m=\u001b[39m np\u001b[38;5;241m.\u001b[39marray(data[:, \u001b[38;5;241m-\u001b[39m\u001b[38;5;241m1\u001b[39m], dtype\u001b[38;5;241m=\u001b[39mnp\u001b[38;5;241m.\u001b[39mdouble)\u001b[38;5;241m.\u001b[39mflatten()\n",
      "File \u001b[0;32m~/miniconda3/envs/GPax/lib/python3.10/site-packages/numpy/lib/npyio.py:1373\u001b[0m, in \u001b[0;36mloadtxt\u001b[0;34m(fname, dtype, comments, delimiter, converters, skiprows, usecols, unpack, ndmin, encoding, max_rows, quotechar, like)\u001b[0m\n\u001b[1;32m   1370\u001b[0m \u001b[38;5;28;01mif\u001b[39;00m \u001b[38;5;28misinstance\u001b[39m(delimiter, \u001b[38;5;28mbytes\u001b[39m):\n\u001b[1;32m   1371\u001b[0m     delimiter \u001b[38;5;241m=\u001b[39m delimiter\u001b[38;5;241m.\u001b[39mdecode(\u001b[38;5;124m'\u001b[39m\u001b[38;5;124mlatin1\u001b[39m\u001b[38;5;124m'\u001b[39m)\n\u001b[0;32m-> 1373\u001b[0m arr \u001b[38;5;241m=\u001b[39m \u001b[43m_read\u001b[49m\u001b[43m(\u001b[49m\u001b[43mfname\u001b[49m\u001b[43m,\u001b[49m\u001b[43m \u001b[49m\u001b[43mdtype\u001b[49m\u001b[38;5;241;43m=\u001b[39;49m\u001b[43mdtype\u001b[49m\u001b[43m,\u001b[49m\u001b[43m \u001b[49m\u001b[43mcomment\u001b[49m\u001b[38;5;241;43m=\u001b[39;49m\u001b[43mcomment\u001b[49m\u001b[43m,\u001b[49m\u001b[43m \u001b[49m\u001b[43mdelimiter\u001b[49m\u001b[38;5;241;43m=\u001b[39;49m\u001b[43mdelimiter\u001b[49m\u001b[43m,\u001b[49m\n\u001b[1;32m   1374\u001b[0m \u001b[43m            \u001b[49m\u001b[43mconverters\u001b[49m\u001b[38;5;241;43m=\u001b[39;49m\u001b[43mconverters\u001b[49m\u001b[43m,\u001b[49m\u001b[43m \u001b[49m\u001b[43mskiplines\u001b[49m\u001b[38;5;241;43m=\u001b[39;49m\u001b[43mskiprows\u001b[49m\u001b[43m,\u001b[49m\u001b[43m \u001b[49m\u001b[43musecols\u001b[49m\u001b[38;5;241;43m=\u001b[39;49m\u001b[43musecols\u001b[49m\u001b[43m,\u001b[49m\n\u001b[1;32m   1375\u001b[0m \u001b[43m            \u001b[49m\u001b[43munpack\u001b[49m\u001b[38;5;241;43m=\u001b[39;49m\u001b[43munpack\u001b[49m\u001b[43m,\u001b[49m\u001b[43m \u001b[49m\u001b[43mndmin\u001b[49m\u001b[38;5;241;43m=\u001b[39;49m\u001b[43mndmin\u001b[49m\u001b[43m,\u001b[49m\u001b[43m \u001b[49m\u001b[43mencoding\u001b[49m\u001b[38;5;241;43m=\u001b[39;49m\u001b[43mencoding\u001b[49m\u001b[43m,\u001b[49m\n\u001b[1;32m   1376\u001b[0m \u001b[43m            \u001b[49m\u001b[43mmax_rows\u001b[49m\u001b[38;5;241;43m=\u001b[39;49m\u001b[43mmax_rows\u001b[49m\u001b[43m,\u001b[49m\u001b[43m \u001b[49m\u001b[43mquote\u001b[49m\u001b[38;5;241;43m=\u001b[39;49m\u001b[43mquotechar\u001b[49m\u001b[43m)\u001b[49m\n\u001b[1;32m   1378\u001b[0m \u001b[38;5;28;01mreturn\u001b[39;00m arr\n",
      "File \u001b[0;32m~/miniconda3/envs/GPax/lib/python3.10/site-packages/numpy/lib/npyio.py:992\u001b[0m, in \u001b[0;36m_read\u001b[0;34m(fname, delimiter, comment, quote, imaginary_unit, usecols, skiplines, max_rows, converters, ndmin, unpack, dtype, encoding)\u001b[0m\n\u001b[1;32m    990\u001b[0m     fname \u001b[38;5;241m=\u001b[39m os\u001b[38;5;241m.\u001b[39mfspath(fname)\n\u001b[1;32m    991\u001b[0m \u001b[38;5;28;01mif\u001b[39;00m \u001b[38;5;28misinstance\u001b[39m(fname, \u001b[38;5;28mstr\u001b[39m):\n\u001b[0;32m--> 992\u001b[0m     fh \u001b[38;5;241m=\u001b[39m \u001b[43mnp\u001b[49m\u001b[38;5;241;43m.\u001b[39;49m\u001b[43mlib\u001b[49m\u001b[38;5;241;43m.\u001b[39;49m\u001b[43m_datasource\u001b[49m\u001b[38;5;241;43m.\u001b[39;49m\u001b[43mopen\u001b[49m\u001b[43m(\u001b[49m\u001b[43mfname\u001b[49m\u001b[43m,\u001b[49m\u001b[43m \u001b[49m\u001b[38;5;124;43m'\u001b[39;49m\u001b[38;5;124;43mrt\u001b[39;49m\u001b[38;5;124;43m'\u001b[39;49m\u001b[43m,\u001b[49m\u001b[43m \u001b[49m\u001b[43mencoding\u001b[49m\u001b[38;5;241;43m=\u001b[39;49m\u001b[43mencoding\u001b[49m\u001b[43m)\u001b[49m\n\u001b[1;32m    993\u001b[0m     \u001b[38;5;28;01mif\u001b[39;00m encoding \u001b[38;5;129;01mis\u001b[39;00m \u001b[38;5;28;01mNone\u001b[39;00m:\n\u001b[1;32m    994\u001b[0m         encoding \u001b[38;5;241m=\u001b[39m \u001b[38;5;28mgetattr\u001b[39m(fh, \u001b[38;5;124m'\u001b[39m\u001b[38;5;124mencoding\u001b[39m\u001b[38;5;124m'\u001b[39m, \u001b[38;5;124m'\u001b[39m\u001b[38;5;124mlatin1\u001b[39m\u001b[38;5;124m'\u001b[39m)\n",
      "File \u001b[0;32m~/miniconda3/envs/GPax/lib/python3.10/site-packages/numpy/lib/_datasource.py:193\u001b[0m, in \u001b[0;36mopen\u001b[0;34m(path, mode, destpath, encoding, newline)\u001b[0m\n\u001b[1;32m    156\u001b[0m \u001b[38;5;250m\u001b[39m\u001b[38;5;124;03m\"\"\"\u001b[39;00m\n\u001b[1;32m    157\u001b[0m \u001b[38;5;124;03mOpen `path` with `mode` and return the file object.\u001b[39;00m\n\u001b[1;32m    158\u001b[0m \n\u001b[0;32m   (...)\u001b[0m\n\u001b[1;32m    189\u001b[0m \n\u001b[1;32m    190\u001b[0m \u001b[38;5;124;03m\"\"\"\u001b[39;00m\n\u001b[1;32m    192\u001b[0m ds \u001b[38;5;241m=\u001b[39m DataSource(destpath)\n\u001b[0;32m--> 193\u001b[0m \u001b[38;5;28;01mreturn\u001b[39;00m \u001b[43mds\u001b[49m\u001b[38;5;241;43m.\u001b[39;49m\u001b[43mopen\u001b[49m\u001b[43m(\u001b[49m\u001b[43mpath\u001b[49m\u001b[43m,\u001b[49m\u001b[43m \u001b[49m\u001b[43mmode\u001b[49m\u001b[43m,\u001b[49m\u001b[43m \u001b[49m\u001b[43mencoding\u001b[49m\u001b[38;5;241;43m=\u001b[39;49m\u001b[43mencoding\u001b[49m\u001b[43m,\u001b[49m\u001b[43m \u001b[49m\u001b[43mnewline\u001b[49m\u001b[38;5;241;43m=\u001b[39;49m\u001b[43mnewline\u001b[49m\u001b[43m)\u001b[49m\n",
      "File \u001b[0;32m~/miniconda3/envs/GPax/lib/python3.10/site-packages/numpy/lib/_datasource.py:533\u001b[0m, in \u001b[0;36mDataSource.open\u001b[0;34m(self, path, mode, encoding, newline)\u001b[0m\n\u001b[1;32m    530\u001b[0m     \u001b[38;5;28;01mreturn\u001b[39;00m _file_openers[ext](found, mode\u001b[38;5;241m=\u001b[39mmode,\n\u001b[1;32m    531\u001b[0m                               encoding\u001b[38;5;241m=\u001b[39mencoding, newline\u001b[38;5;241m=\u001b[39mnewline)\n\u001b[1;32m    532\u001b[0m \u001b[38;5;28;01melse\u001b[39;00m:\n\u001b[0;32m--> 533\u001b[0m     \u001b[38;5;28;01mraise\u001b[39;00m \u001b[38;5;167;01mFileNotFoundError\u001b[39;00m(\u001b[38;5;124mf\u001b[39m\u001b[38;5;124m\"\u001b[39m\u001b[38;5;132;01m{\u001b[39;00mpath\u001b[38;5;132;01m}\u001b[39;00m\u001b[38;5;124m not found.\u001b[39m\u001b[38;5;124m\"\u001b[39m)\n",
      "\u001b[0;31mFileNotFoundError\u001b[0m: data/P3HT_dataset.csv not found."
     ]
    }
   ],
   "source": [
    "import numpy as np\n",
    "import pandas as pd\n",
    "import matplotlib.pyplot as plt\n",
    "from sklearn.model_selection import train_test_split\n",
    "from sklearn.preprocessing import StandardScaler\n",
    "from sklearn.preprocessing import MinMaxScaler\n",
    "import jax.numpy as jnp\n",
    "from jax import random\n",
    "from jax import vmap\n",
    "import jax\n",
    "import numpyro\n",
    "import numpyro.distributions as dist\n",
    "from numpyro.infer import MCMC, NUTS\n",
    "import math\n",
    "\n",
    "from numpyro.util import enable_x64\n",
    "enable_x64()\n",
    "\n",
    "# Load and preprocess data\n",
    "data = np.loadtxt(\"data/P3HT_dataset.csv\", delimiter=\",\", skiprows=1)\n",
    "\n",
    "X = np.array(data[:, 0:-1], dtype=np.double)\n",
    "y = np.array(data[:, -1], dtype=np.double).flatten()\n",
    "\n",
    "# min max scale the X vals\n",
    "scaler = MinMaxScaler()\n",
    "X = scaler.fit_transform(X)"
   ]
  },
  {
   "cell_type": "code",
   "execution_count": null,
   "metadata": {},
   "outputs": [],
   "source": [
    "def kernel(X, Z, var, length, noise, jitter=1.0e-6, include_noise=True):\n",
    "    \"\"\"Squared exponential kernel with diagonal noise term.\n",
    "    \n",
    "    Args:\n",
    "        X: First input array of shape (N, D)\n",
    "        Z: Second input array of shape (M, D)\n",
    "        var: Kernel variance scalar\n",
    "        length: Lengthscale (either scalar or array of size D for ARD)\n",
    "        noise: Likelihood noise scalar\n",
    "        jitter: Small constant for numerical stability\n",
    "        include_noise: Whether to include noise term on diagonal\n",
    "    \"\"\"\n",
    "    # Reshape inputs for broadcasting\n",
    "    X = X / length\n",
    "    Z = Z / length\n",
    "    \n",
    "    # Compute squared distances\n",
    "    deltaXsq = jnp.sum(jnp.square(X[:, None, :] - Z[None, :, :]), axis=-1)\n",
    "    k = var * jnp.exp(-0.5 * deltaXsq)\n",
    "    \n",
    "    if include_noise:\n",
    "        k += (noise + jitter) * jnp.eye(X.shape[0])\n",
    "    return k\n",
    "\n",
    "def model(X, Y):\n",
    "    \"\"\"GP model with Student-T likelihood matching GPyTorch specifications\"\"\"\n",
    "    input_dim = X.shape[1]\n",
    "    \n",
    "    # BoTorch-style lengthscale prior\n",
    "    lengthscale_loc = math.sqrt(2) + math.log(input_dim) * 0.5\n",
    "    lengthscale = numpyro.sample(\n",
    "        \"kernel_length\",\n",
    "        dist.LogNormal(loc=jnp.ones(input_dim) * lengthscale_loc, scale=jnp.ones(input_dim) * math.sqrt(3))\n",
    "    )\n",
    "    \n",
    "    # Outputscale prior matching GPyTorch\n",
    "    var = numpyro.sample(\"kernel_var\", dist.LogNormal(0.0, 1.0))\n",
    "    \n",
    "    # Noise prior matching GPyTorch\n",
    "    noise = numpyro.sample(\"likelihood_noise\", dist.LogNormal(-4.0, 1.0))\n",
    "    \n",
    "    # Degrees of freedom prior matching GPyTorch (Gamma(2.0, 0.1))\n",
    "    df = numpyro.sample(\"likelihood_df\", dist.Gamma(2.0, 0.1))\n",
    "    \n",
    "    # Compute kernel and sample latent function\n",
    "    k = kernel(X, X, var, lengthscale, input_dim)\n",
    "    f = numpyro.sample(\n",
    "        \"f\",\n",
    "        dist.MultivariateNormal(loc=jnp.zeros(X.shape[0]), covariance_matrix=k)\n",
    "    )\n",
    "    \n",
    "    # Student-T likelihood\n",
    "    numpyro.sample(\"obs\", dist.StudentT(df=df, loc=f, scale=noise), obs=Y)\n",
    "\n",
    "def run_inference(X, Y, num_warmup=1000, num_samples=1000, num_chains=1):\n",
    "    \"\"\"Simple inference function\"\"\"\n",
    "    kernel = NUTS(model)\n",
    "    mcmc = MCMC(\n",
    "        kernel,\n",
    "        num_warmup=num_warmup,\n",
    "        num_samples=num_samples,\n",
    "        num_chains=num_chains,\n",
    "        thinning=2\n",
    "    )\n",
    "    \n",
    "    # Run inference\n",
    "    rng_key = random.PRNGKey(0)\n",
    "    mcmc.run(rng_key, X, Y)\n",
    "    mcmc.print_summary(exclude_deterministic=True)\n",
    "    return mcmc.get_samples()\n",
    "\n",
    "\n",
    "def predict(rng_key, X, Y, X_test, var, length, noise, df, use_cholesky=True):\n",
    "    \"\"\"Predict at test points using the GP posterior\"\"\"\n",
    "    k_pp = kernel(X_test, X_test, var, length, noise, include_noise=True)\n",
    "    k_pX = kernel(X_test, X, var, length, noise, include_noise=False)\n",
    "    k_XX = kernel(X, X, var, length, noise, include_noise=True)\n",
    "\n",
    "    if use_cholesky:\n",
    "        K_xx_cho = jax.scipy.linalg.cho_factor(k_XX)\n",
    "        K = k_pp - jnp.matmul(k_pX, jax.scipy.linalg.cho_solve(K_xx_cho, k_pX.T))\n",
    "        mean = jnp.matmul(k_pX, jax.scipy.linalg.cho_solve(K_xx_cho, Y))\n",
    "    else:\n",
    "        K_xx_inv = jnp.linalg.inv(k_XX)\n",
    "        K = k_pp - jnp.matmul(k_pX, jnp.matmul(K_xx_inv, jnp.transpose(k_pX)))\n",
    "        mean = jnp.matmul(k_pX, jnp.matmul(K_xx_inv, Y))\n",
    "\n",
    "    sigma = jnp.sqrt(jnp.clip(jnp.diag(K), 0.0))\n",
    "    eps = jax.random.normal(rng_key, X_test.shape[:1])\n",
    "    chi2 = jax.random.gamma(rng_key, df/2) * 2\n",
    "    sigma_noise = sigma * eps * jnp.sqrt(df/chi2)\n",
    "\n",
    "    return mean, mean + sigma_noise"
   ]
  },
  {
   "cell_type": "code",
   "execution_count": null,
   "metadata": {},
   "outputs": [
    {
     "name": "stderr",
     "output_type": "stream",
     "text": [
      "/var/folders/mr/t_bgg1cx77d83fh1txvc1j1r0000gn/T/ipykernel_54716/3249302654.py:58: UserWarning: There are not enough devices to run parallel chains: expected 4 but got 1. Chains will be drawn sequentially. If you are running MCMC in CPU, consider using `numpyro.set_host_device_count(4)` at the beginning of your program. You can double-check how many devices are available in your system using `jax.local_device_count()`.\n",
      "  mcmc = MCMC(\n",
      "sample: 100%|██████████| 6000/6000 [00:31<00:00, 189.81it/s, 15 steps of size 8.18e-02. acc. prob=0.89] \n",
      "sample: 100%|██████████| 6000/6000 [00:28<00:00, 210.36it/s, 15 steps of size 8.98e-02. acc. prob=0.83] \n",
      "sample: 100%|██████████| 6000/6000 [00:26<00:00, 229.28it/s, 15 steps of size 6.58e-02. acc. prob=0.89] \n",
      "sample: 100%|██████████| 6000/6000 [00:29<00:00, 200.39it/s, 31 steps of size 1.02e-01. acc. prob=0.91] "
     ]
    },
    {
     "name": "stdout",
     "output_type": "stream",
     "text": [
      "\n",
      "                        mean       std    median      5.0%     95.0%     n_eff     r_hat\n",
      "              f[0]     -0.95      0.05     -0.95     -1.02     -0.89   1869.23      1.00\n",
      "              f[1]     -0.93      0.05     -0.93     -1.00     -0.86   1592.03      1.00\n",
      "              f[2]     -0.96      0.05     -0.96     -1.02     -0.89   1694.06      1.00\n",
      "              f[3]      0.18      0.05      0.18      0.12      0.25   1586.07      1.00\n",
      "              f[4]      0.37      0.05      0.37      0.30      0.44   1452.29      1.00\n",
      "              f[5]     -0.89      0.05     -0.89     -0.96     -0.82   1911.04      1.00\n",
      "              f[6]      1.75      0.05      1.75      1.69      1.82   1941.89      1.00\n",
      "              f[7]     -0.15      0.06     -0.14     -0.21     -0.07   1292.99      1.00\n",
      "              f[8]     -0.81      0.05     -0.81     -0.89     -0.75   1613.50      1.00\n",
      "              f[9]     -0.90      0.06     -0.90     -0.97     -0.83   1403.97      1.00\n",
      "             f[10]      0.38      0.05      0.38      0.30      0.45   1534.31      1.00\n",
      "             f[11]      0.99      0.05      0.99      0.93      1.06   1165.19      1.00\n",
      "             f[12]     -0.18      0.06     -0.18     -0.25     -0.10   1872.35      1.00\n",
      "             f[13]     -0.93      0.05     -0.93     -0.99     -0.87   1783.62      1.00\n",
      "             f[14]     -0.31      0.05     -0.31     -0.38     -0.25   1590.56      1.00\n",
      "             f[15]     -0.90      0.05     -0.90     -0.97     -0.83   1717.93      1.00\n",
      "             f[16]      0.21      0.05      0.21      0.15      0.29   1638.73      1.00\n",
      "             f[17]     -0.93      0.06     -0.93     -0.99     -0.86   1927.83      1.00\n",
      "             f[18]      0.23      0.05      0.23      0.18      0.31   1687.25      1.00\n",
      "             f[19]     -0.90      0.05     -0.90     -0.97     -0.84   1354.81      1.00\n",
      "             f[20]      1.61      0.05      1.61      1.55      1.68   1775.36      1.00\n",
      "             f[21]      0.38      0.05      0.38      0.31      0.44   1577.83      1.00\n",
      "             f[22]     -0.93      0.05     -0.93     -1.00     -0.86   1185.16      1.00\n",
      "             f[23]      1.24      0.05      1.24      1.17      1.31   1767.95      1.00\n",
      "             f[24]      1.28      0.06      1.28      1.21      1.35   2101.11      1.00\n",
      "             f[25]     -0.84      0.05     -0.84     -0.91     -0.78   1115.74      1.01\n",
      "             f[26]     -0.71      0.06     -0.71     -0.77     -0.63   1960.94      1.00\n",
      "             f[27]     -0.79      0.05     -0.79     -0.85     -0.71   1756.09      1.00\n",
      "             f[28]     -0.84      0.05     -0.84     -0.90     -0.76    714.76      1.01\n",
      "             f[29]      1.34      0.05      1.34      1.28      1.42   2250.75      1.00\n",
      "             f[30]      2.03      0.06      2.03      1.95      2.10   1609.82      1.00\n",
      "             f[31]      1.26      0.05      1.26      1.20      1.34   1526.35      1.00\n",
      "             f[32]     -0.35      0.05     -0.35     -0.41     -0.27   1089.90      1.00\n",
      "             f[33]     -0.92      0.05     -0.92     -0.98     -0.84   1200.09      1.00\n",
      "             f[34]      1.88      0.06      1.88      1.81      1.95   1434.56      1.00\n",
      "             f[35]     -0.14      0.05     -0.14     -0.22     -0.08   1373.61      1.00\n",
      "             f[36]      1.75      0.05      1.75      1.69      1.82   1547.47      1.00\n",
      "             f[37]      0.90      0.05      0.90      0.83      0.96   2312.61      1.00\n",
      "             f[38]     -0.93      0.06     -0.93     -1.01     -0.86   1732.98      1.00\n",
      "             f[39]      0.05      0.05      0.06     -0.01      0.12   1297.19      1.00\n",
      "             f[40]     -0.95      0.06     -0.95     -1.02     -0.88   1559.99      1.00\n",
      "             f[41]     -0.07      0.05     -0.07     -0.14     -0.02   1728.50      1.00\n",
      "             f[42]      0.19      0.05      0.19      0.12      0.26   1849.63      1.00\n",
      "             f[43]     -0.87      0.05     -0.87     -0.93     -0.79   1694.05      1.00\n",
      "             f[44]     -0.51      0.06     -0.51     -0.58     -0.45   1395.40      1.00\n",
      "             f[45]      0.67      0.05      0.67      0.61      0.74    971.46      1.00\n",
      "             f[46]     -0.79      0.05     -0.79     -0.86     -0.74   1389.37      1.00\n",
      "             f[47]     -0.94      0.05     -0.94     -1.01     -0.87   1470.23      1.00\n",
      "             f[48]      2.50      0.06      2.50      2.44      2.57   1410.02      1.00\n",
      "             f[49]     -0.91      0.06     -0.91     -0.98     -0.83   1801.33      1.00\n",
      "  kernel_length[0]     39.19    134.59      9.11      0.10     87.65   1175.70      1.00\n",
      "  kernel_length[1]     27.02     91.37      3.67      0.04     65.66    916.86      1.00\n",
      "  kernel_length[2]     36.79    118.36      9.61      0.07     80.98   1371.34      1.00\n",
      "  kernel_length[3]     48.24    230.65     10.16      0.07    102.87   1821.31      1.00\n",
      "  kernel_length[4]     39.40    110.57      9.06      0.06     85.24   1676.37      1.00\n",
      "        kernel_var      1.18      1.30      0.76      0.03      2.57   1103.21      1.00\n",
      "     likelihood_df     19.80     13.84     16.66      2.21     38.93   1185.67      1.00\n",
      "  likelihood_noise      0.03      0.04      0.02      0.00      0.07     55.73      1.05\n",
      "\n",
      "Number of divergences: 0\n"
     ]
    },
    {
     "name": "stderr",
     "output_type": "stream",
     "text": [
      "\n"
     ]
    }
   ],
   "source": [
    "# get n random indices\n",
    "sampled_indices = np.random.choice(len(X), 50, replace=False)\n",
    "X_train = X[sampled_indices]\n",
    "y_train = y[sampled_indices]\n",
    "\n",
    "y_scaler = StandardScaler()\n",
    "y_train = y_scaler.fit_transform(y_train.reshape(-1, 1)).flatten()\n",
    "\n",
    "X_test = X[~np.isin(np.arange(len(X)), sampled_indices)]\n",
    "\n",
    "rng_key, rng_key_predict = random.split(random.PRNGKey(0))\n",
    "samples = run_inference(X_train, y_train, num_warmup=5000, num_samples=1000, num_chains=4)"
   ]
  },
  {
   "cell_type": "code",
   "execution_count": null,
   "metadata": {},
   "outputs": [],
   "source": [
    "# Make predictions using vmap\n",
    "vmap_args = (\n",
    "    random.split(rng_key_predict, samples[\"kernel_var\"].shape[0]),\n",
    "    samples[\"kernel_var\"],\n",
    "    samples[\"kernel_length\"],\n",
    "    samples[\"likelihood_noise\"],\n",
    "    samples[\"likelihood_df\"]\n",
    ")\n",
    "\n",
    "means, predictions = vmap(\n",
    "    lambda rng_key, var, length, noise, df: predict(\n",
    "        rng_key, X_train, y_train, X_test, var, length, noise, df, use_cholesky=True\n",
    "    )\n",
    ")(*vmap_args)\n",
    "\n",
    "# Compute statistics and plot\n",
    "mean_prediction = np.mean(means, axis=0)\n",
    "percentiles = np.percentile(predictions, [5.0, 95.0], axis=0)"
   ]
  },
  {
   "cell_type": "code",
   "execution_count": null,
   "metadata": {},
   "outputs": [
    {
     "data": {
      "text/plain": [
       "array([59.67078469])"
      ]
     },
     "execution_count": 93,
     "metadata": {},
     "output_type": "execute_result"
    }
   ],
   "source": [
    "y_scaler.inverse_transform(mean_prediction[0].reshape(-1, 1)).flatten()"
   ]
  },
  {
   "cell_type": "code",
   "execution_count": null,
   "metadata": {},
   "outputs": [
    {
     "data": {
      "image/png": "[encoded data removed]",
      "text/plain": [
       "<Figure size 640x480 with 1 Axes>"
      ]
     },
     "metadata": {},
     "output_type": "display_data"
    }
   ],
   "source": [
    "pred = predictions[:,2]\n",
    "pred = y_scaler.inverse_transform(pred.reshape(-1, 1)).flatten()\n",
    "\n",
    "plt.hist(pred, bins=100)\n",
    "plt.xlim(-500, 1500)\n",
    "plt.show()"
   ]
  }
 ],
 "metadata": {
  "kernelspec": {
   "display_name": "GPax",
   "language": "python",
   "name": "python3"
  },
  "language_info": {
   "codemirror_mode": {
    "name": "ipython",
    "version": 3
   },
   "file_extension": ".py",
   "mimetype": "text/x-python",
   "name": "python",
   "nbconvert_exporter": "python",
   "pygments_lexer": "ipython3",
   "version": "3.10.14"
  }
 },
 "nbformat": 4,
 "nbformat_minor": 2
}
