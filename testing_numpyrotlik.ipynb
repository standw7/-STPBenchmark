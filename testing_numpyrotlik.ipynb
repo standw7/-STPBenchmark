{
 "cells": [
  {
   "cell_type": "code",
   "execution_count": 27,
   "metadata": {},
   "outputs": [],
   "source": [
    "import warnings\n",
    "from typing import Callable, Dict, Optional, Tuple, Type, Union\n",
    "import numpy as np\n",
    "import jax\n",
    "import math\n",
    "from jax import jit, vmap\n",
    "import jaxlib\n",
    "import jax.numpy as jnp\n",
    "import jax.random as jra\n",
    "import numpyro\n",
    "import numpyro.distributions as dist\n",
    "from numpyro.infer import MCMC, NUTS, init_to_median, Predictive\n",
    "from sklearn.preprocessing import StandardScaler\n",
    "from sklearn.preprocessing import MinMaxScaler\n",
    "from sklearn.model_selection import train_test_split\n",
    "import tqdm as notebook_tqdm\n",
    "\n",
    "from numpyro_models import Exact_tGP, get_keys"
   ]
  },
  {
   "cell_type": "code",
   "execution_count": 28,
   "metadata": {},
   "outputs": [],
   "source": [
    "data = np.loadtxt(\"data/P3HT_dataset.csv\", delimiter=\",\", skiprows=1)\n",
    "\n",
    "X = np.array(data[:, 0:-1], dtype=np.double)\n",
    "y = np.array(data[:, -1], dtype=np.double).flatten()\n",
    "\n",
    "# min max scale the X vals, assume we know the bounds ahead of time.\n",
    "normalizer = MinMaxScaler()\n",
    "X = normalizer.fit_transform(X)\n",
    "\n",
    "X_train, X_test, y_train, y_test = train_test_split(X, y, test_size=0.9, random_state=42)\n",
    "\n",
    "scaler = StandardScaler()\n",
    "y_train = scaler.fit_transform(y_train.reshape(-1, 1)).flatten()\n",
    "y_test = scaler.transform(y_test.reshape(-1, 1)).flatten()"
   ]
  },
  {
   "cell_type": "code",
   "execution_count": 29,
   "metadata": {},
   "outputs": [],
   "source": [
    "np.random.seed(42)\n",
    "real_std = 0.1\n",
    "X = np.linspace(0.0, np.pi * 2, 100)[:, None]\n",
    "Y = np.sin(X) + np.random.randn(*X.shape) * real_std\n",
    "Y = Y / Y.max()\n",
    "Yc = Y.copy() # Corrupted data\n",
    "X = X/X.max()\n",
    "# Slightly noisy data\n",
    "Yc[75:79] += 1.0\n",
    "\n",
    "normalizer = MinMaxScaler()\n",
    "X_train = normalizer.fit_transform(X)\n",
    "\n",
    "scaler = StandardScaler()\n",
    "y_train = scaler.fit_transform(Yc).flatten()\n",
    "\n",
    "X_test = np.linspace(0.01, 0.99, 200)[:, None]"
   ]
  },
  {
   "cell_type": "code",
   "execution_count": 30,
   "metadata": {},
   "outputs": [
    {
     "name": "stderr",
     "output_type": "stream",
     "text": [
      "sample: 100%|██████████| 10000/10000 [23:39<00:00,  7.04it/s, 503 steps of size 1.12e-02. acc. prob=0.87]\n"
     ]
    },
    {
     "name": "stdout",
     "output_type": "stream",
     "text": [
      "\n",
      "                        mean       std    median      5.0%     95.0%     n_eff     r_hat\n",
      "              f[0]      0.06      0.07      0.05     -0.05      0.17   3353.89      1.00\n",
      "              f[1]      0.13      0.06      0.13      0.04      0.23   3368.68      1.00\n",
      "              f[2]      0.21      0.05      0.21      0.13      0.30   3325.82      1.00\n",
      "              f[3]      0.28      0.05      0.28      0.21      0.36   3206.14      1.00\n",
      "              f[4]      0.36      0.04      0.36      0.29      0.43   3060.72      1.00\n",
      "              f[5]      0.44      0.04      0.43      0.37      0.50   2891.03      1.00\n",
      "              f[6]      0.51      0.04      0.51      0.45      0.57   2737.80      1.00\n",
      "              f[7]      0.58      0.04      0.58      0.52      0.65   2626.57      1.00\n",
      "              f[8]      0.66      0.04      0.66      0.59      0.72   2540.55      1.00\n",
      "              f[9]      0.73      0.04      0.73      0.67      0.79   2472.59      1.00\n",
      "             f[10]      0.80      0.04      0.80      0.73      0.85   2432.04      1.00\n",
      "             f[11]      0.86      0.04      0.86      0.80      0.92   2399.55      1.00\n",
      "             f[12]      0.93      0.04      0.93      0.86      0.99   2368.10      1.00\n",
      "             f[13]      0.99      0.04      0.99      0.93      1.05   2350.58      1.00\n",
      "             f[14]      1.04      0.04      1.04      0.99      1.11   2333.95      1.00\n",
      "             f[15]      1.10      0.04      1.10      1.04      1.16   2314.90      1.00\n",
      "             f[16]      1.15      0.04      1.15      1.09      1.20   2299.07      1.00\n",
      "             f[17]      1.19      0.04      1.19      1.14      1.25   2273.55      1.00\n",
      "             f[18]      1.23      0.04      1.23      1.18      1.29   2240.18      1.00\n",
      "             f[19]      1.27      0.04      1.27      1.22      1.33   2193.26      1.00\n",
      "             f[20]      1.30      0.03      1.30      1.25      1.36   2145.12      1.00\n",
      "             f[21]      1.33      0.03      1.33      1.27      1.38   2094.20      1.00\n",
      "             f[22]      1.35      0.03      1.35      1.29      1.40   2042.05      1.00\n",
      "             f[23]      1.36      0.03      1.36      1.31      1.42   1987.75      1.00\n",
      "             f[24]      1.37      0.03      1.37      1.32      1.43   1900.18      1.00\n",
      "             f[25]      1.38      0.03      1.38      1.32      1.43   1836.73      1.00\n",
      "             f[26]      1.38      0.03      1.38      1.32      1.43   1769.09      1.00\n",
      "             f[27]      1.37      0.03      1.37      1.31      1.42   1712.66      1.00\n",
      "             f[28]      1.35      0.03      1.35      1.30      1.41   1659.88      1.00\n",
      "             f[29]      1.33      0.03      1.33      1.28      1.39   1601.42      1.00\n",
      "             f[30]      1.31      0.03      1.31      1.26      1.37   1558.55      1.00\n",
      "             f[31]      1.28      0.03      1.28      1.23      1.33   1540.28      1.00\n",
      "             f[32]      1.24      0.03      1.24      1.19      1.30   1520.52      1.00\n",
      "             f[33]      1.20      0.03      1.20      1.15      1.25   1522.20      1.00\n",
      "             f[34]      1.15      0.03      1.15      1.10      1.21   1520.92      1.00\n",
      "             f[35]      1.10      0.03      1.10      1.04      1.15   1524.15      1.00\n",
      "             f[36]      1.04      0.03      1.04      0.98      1.09   1530.34      1.00\n",
      "             f[37]      0.98      0.03      0.98      0.93      1.03   1531.98      1.00\n",
      "             f[38]      0.91      0.03      0.91      0.86      0.97   1530.42      1.00\n",
      "             f[39]      0.84      0.03      0.84      0.79      0.90   1545.73      1.00\n",
      "             f[40]      0.77      0.03      0.77      0.72      0.83   1580.82      1.00\n",
      "             f[41]      0.69      0.03      0.69      0.64      0.75   1587.25      1.00\n",
      "             f[42]      0.61      0.03      0.61      0.56      0.67   1604.53      1.00\n",
      "             f[43]      0.53      0.03      0.53      0.47      0.58   1626.44      1.00\n",
      "             f[44]      0.44      0.03      0.44      0.39      0.50   1628.72      1.00\n",
      "             f[45]      0.35      0.03      0.35      0.30      0.41   1658.42      1.00\n",
      "             f[46]      0.26      0.03      0.26      0.21      0.32   1651.99      1.00\n",
      "             f[47]      0.17      0.03      0.17      0.12      0.23   1649.92      1.00\n",
      "             f[48]      0.08      0.03      0.08      0.03      0.14   1642.13      1.00\n",
      "             f[49]     -0.01      0.03     -0.01     -0.07      0.04   1643.02      1.00\n",
      "             f[50]     -0.11      0.03     -0.11     -0.16     -0.05   1642.11      1.00\n",
      "             f[51]     -0.20      0.03     -0.20     -0.25     -0.14   1650.26      1.00\n",
      "             f[52]     -0.29      0.03     -0.29     -0.35     -0.23   1657.91      1.00\n",
      "             f[53]     -0.38      0.03     -0.38     -0.43     -0.32   1665.38      1.00\n",
      "             f[54]     -0.47      0.03     -0.47     -0.52     -0.41   1670.19      1.00\n",
      "             f[55]     -0.56      0.03     -0.56     -0.61     -0.50   1677.50      1.00\n",
      "             f[56]     -0.64      0.03     -0.64     -0.70     -0.59   1684.27      1.00\n",
      "             f[57]     -0.73      0.03     -0.73     -0.79     -0.67   1703.47      1.00\n",
      "             f[58]     -0.81      0.03     -0.81     -0.87     -0.75   1714.49      1.00\n",
      "             f[59]     -0.88      0.03     -0.88     -0.94     -0.83   1722.83      1.00\n",
      "             f[60]     -0.96      0.03     -0.96     -1.01     -0.90   1736.70      1.00\n",
      "             f[61]     -1.03      0.03     -1.03     -1.08     -0.97   1750.23      1.00\n",
      "             f[62]     -1.10      0.04     -1.10     -1.15     -1.04   1757.33      1.00\n",
      "             f[63]     -1.16      0.04     -1.16     -1.21     -1.10   1759.94      1.00\n",
      "             f[64]     -1.22      0.04     -1.22     -1.27     -1.16   1762.47      1.00\n",
      "             f[65]     -1.27      0.04     -1.27     -1.33     -1.21   1771.06      1.00\n",
      "             f[66]     -1.32      0.04     -1.32     -1.38     -1.26   1770.50      1.00\n",
      "             f[67]     -1.36      0.04     -1.36     -1.42     -1.30   1766.30      1.00\n",
      "             f[68]     -1.40      0.04     -1.40     -1.46     -1.34   1759.73      1.00\n",
      "             f[69]     -1.43      0.04     -1.43     -1.49     -1.37   1751.64      1.00\n",
      "             f[70]     -1.46      0.04     -1.46     -1.52     -1.40   1727.42      1.00\n",
      "             f[71]     -1.48      0.04     -1.48     -1.55     -1.42   1721.27      1.00\n",
      "             f[72]     -1.50      0.04     -1.50     -1.57     -1.44   1730.58      1.00\n",
      "             f[73]     -1.51      0.04     -1.51     -1.58     -1.45   1704.04      1.00\n",
      "             f[74]     -1.52      0.04     -1.52     -1.58     -1.45   1694.08      1.00\n",
      "             f[75]     -1.52      0.04     -1.52     -1.58     -1.45   1676.88      1.00\n",
      "             f[76]     -1.51      0.04     -1.51     -1.58     -1.44   1683.46      1.00\n",
      "             f[77]     -1.50      0.04     -1.50     -1.56     -1.43   1646.19      1.00\n",
      "             f[78]     -1.48      0.04     -1.48     -1.55     -1.41   1650.80      1.00\n",
      "             f[79]     -1.46      0.04     -1.46     -1.52     -1.39   1605.35      1.00\n",
      "             f[80]     -1.43      0.04     -1.43     -1.50     -1.36   1602.19      1.00\n",
      "             f[81]     -1.39      0.04     -1.39     -1.46     -1.33   1583.44      1.00\n",
      "             f[82]     -1.35      0.04     -1.35     -1.42     -1.29   1598.27      1.00\n",
      "             f[83]     -1.31      0.04     -1.31     -1.37     -1.24   1616.25      1.00\n",
      "             f[84]     -1.26      0.04     -1.26     -1.32     -1.19   1621.22      1.00\n",
      "             f[85]     -1.20      0.04     -1.20     -1.27     -1.14   1734.53      1.00\n",
      "             f[86]     -1.14      0.04     -1.14     -1.20     -1.08   1845.04      1.00\n",
      "             f[87]     -1.08      0.04     -1.08     -1.14     -1.02   1947.35      1.00\n",
      "             f[88]     -1.01      0.04     -1.01     -1.07     -0.95   2085.30      1.00\n",
      "             f[89]     -0.94      0.04     -0.94     -1.00     -0.88   2182.36      1.00\n",
      "             f[90]     -0.87      0.04     -0.87     -0.92     -0.80   2302.13      1.00\n",
      "             f[91]     -0.79      0.03     -0.79     -0.85     -0.73   2413.27      1.00\n",
      "             f[92]     -0.71      0.03     -0.71     -0.77     -0.65   2538.37      1.00\n",
      "             f[93]     -0.62      0.03     -0.62     -0.68     -0.57   2664.18      1.00\n",
      "             f[94]     -0.54      0.04     -0.54     -0.60     -0.48   2811.78      1.00\n",
      "             f[95]     -0.45      0.04     -0.45     -0.51     -0.39   2991.33      1.00\n",
      "             f[96]     -0.36      0.04     -0.36     -0.43     -0.29   3201.22      1.00\n",
      "             f[97]     -0.27      0.05     -0.27     -0.35     -0.19   3378.74      1.00\n",
      "             f[98]     -0.18      0.05     -0.18     -0.27     -0.09   3564.50      1.00\n",
      "             f[99]     -0.09      0.06     -0.09     -0.19      0.01   3707.34      1.00\n",
      "  kernel_length[0]      0.29      0.05      0.29      0.20      0.38    428.49      1.00\n",
      "      kernel_scale      2.32      1.81      1.82      0.37      4.27   2044.49      1.00\n",
      "     likelihood_df      2.08      0.46      2.02      1.39      2.84   4254.02      1.00\n",
      "  likelihood_scale      0.11      0.01      0.11      0.09      0.13   4168.14      1.00\n",
      "\n"
     ]
    }
   ],
   "source": [
    "rng_key, rng_key_predict = get_keys()\n",
    "tGP = Exact_tGP(input_dim=X_train.shape[1])\n",
    "tGP.fit(rng_key, X_train, y_train, num_warmup=5000, num_samples=5000, num_chains=1)\n",
    "means, samples = tGP.predict(rng_key_predict, X_test)"
   ]
  },
  {
   "cell_type": "code",
   "execution_count": 36,
   "metadata": {},
   "outputs": [
    {
     "data": {
      "image/png": "[encoded data removed]",
      "text/plain": [
       "<Figure size 640x480 with 1 Axes>"
      ]
     },
     "metadata": {},
     "output_type": "display_data"
    }
   ],
   "source": [
    "import matplotlib.pyplot as plt\n",
    "\n",
    "plt.scatter(X_train, y_train, color='black')\n",
    "plt.plot(X_test, np.mean(means, axis=0), color='dodgerblue', lw=2)\n",
    "# plt.plot(X_test, samples.T, color='dodgerblue', lw=2, alpha=0.01)\n",
    "plt.ylim(-3, 3)\n",
    "plt.show()"
   ]
  },
  {
   "cell_type": "code",
   "execution_count": 44,
   "metadata": {},
   "outputs": [
    {
     "data": {
      "image/png": "[encoded data removed]",
      "text/plain": [
       "<Figure size 640x480 with 1 Axes>"
      ]
     },
     "metadata": {},
     "output_type": "display_data"
    }
   ],
   "source": [
    "mean = means[:,0]\n",
    "sample = samples[:,0]\n",
    "\n",
    "bins = np.linspace(-10, 10, 100)\n",
    "\n",
    "plt.hist(sample, bins=bins, alpha=0.5, label=\"samples\", density=True, color='grey')\n",
    "plt.hist(mean, bins=bins, alpha=0.5, label=\"mean\", density=True, color='blue')\n",
    "# plt.axvline(x=y_test[0], color='r', linestyle='dashed', linewidth=2, label=\"true\")\n",
    "plt.ylim(-1, 16)\n",
    "plt.show()"
   ]
  }
 ],
 "metadata": {
  "kernelspec": {
   "display_name": "GPax",
   "language": "python",
   "name": "python3"
  },
  "language_info": {
   "codemirror_mode": {
    "name": "ipython",
    "version": 3
   },
   "file_extension": ".py",
   "mimetype": "text/x-python",
   "name": "python",
   "nbconvert_exporter": "python",
   "pygments_lexer": "ipython3",
   "version": "3.10.14"
  }
 },
 "nbformat": 4,
 "nbformat_minor": 2
}
